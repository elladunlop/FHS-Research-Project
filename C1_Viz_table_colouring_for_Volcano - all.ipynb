{
 "cells": [
  {
   "cell_type": "code",
   "execution_count": 8,
   "metadata": {},
   "outputs": [],
   "source": [
    "import pandas as pd # Dataframes and good-glue\n",
    "import numpy as np # numerical calculations"
   ]
  },
  {
   "cell_type": "markdown",
   "metadata": {},
   "source": [
    "## Import data from file"
   ]
  },
  {
   "cell_type": "code",
   "execution_count": 9,
   "metadata": {
    "scrolled": true
   },
   "outputs": [
    {
     "data": {
      "text/html": [
       "<div>\n",
       "<style scoped>\n",
       "    .dataframe tbody tr th:only-of-type {\n",
       "        vertical-align: middle;\n",
       "    }\n",
       "\n",
       "    .dataframe tbody tr th {\n",
       "        vertical-align: top;\n",
       "    }\n",
       "\n",
       "    .dataframe thead th {\n",
       "        text-align: right;\n",
       "    }\n",
       "</style>\n",
       "<table border=\"1\" class=\"dataframe\">\n",
       "  <thead>\n",
       "    <tr style=\"text-align: right;\">\n",
       "      <th></th>\n",
       "      <th>MoEx_CerCx_Enrich</th>\n",
       "      <th>MoEx_CerCx_Hedges_g</th>\n",
       "      <th>MoEx_CerCx_Var_g</th>\n",
       "      <th>MoEx_CerCx_SEg</th>\n",
       "      <th>430AV2_ZT6_D2_Enrich</th>\n",
       "      <th>430AV2_ZT6_D2_Hedges_g</th>\n",
       "      <th>430AV2_ZT6_D2_Var_g</th>\n",
       "      <th>430AV2_ZT6_D2_SEg</th>\n",
       "      <th>430AV2_Astro_Enrich</th>\n",
       "      <th>430AV2_Astro_Hedges_g</th>\n",
       "      <th>...</th>\n",
       "      <th>430AV2_ZT6_AK_esW*_21</th>\n",
       "      <th>430AV2_ZT6_B6_esW*_22</th>\n",
       "      <th>430AV2_ZT6_D2_esW*_23</th>\n",
       "      <th>REM_M*</th>\n",
       "      <th>REM_SEM*</th>\n",
       "      <th>REM_Z</th>\n",
       "      <th>REM_pVal</th>\n",
       "      <th>Ensembl Gene ID</th>\n",
       "      <th>Description</th>\n",
       "      <th>q-value</th>\n",
       "    </tr>\n",
       "  </thead>\n",
       "  <tbody>\n",
       "    <tr>\n",
       "      <th>Hspa5</th>\n",
       "      <td>0.796333</td>\n",
       "      <td>9.991844</td>\n",
       "      <td>8.801412</td>\n",
       "      <td>2.966717</td>\n",
       "      <td>0.391073</td>\n",
       "      <td>3.356249</td>\n",
       "      <td>1.420367</td>\n",
       "      <td>1.191792</td>\n",
       "      <td>0.604684</td>\n",
       "      <td>1.468095</td>\n",
       "      <td>...</td>\n",
       "      <td>1.215575</td>\n",
       "      <td>1.072101</td>\n",
       "      <td>1.148088</td>\n",
       "      <td>3.356715</td>\n",
       "      <td>0.368344</td>\n",
       "      <td>9.112986</td>\n",
       "      <td>8.014535e-20</td>\n",
       "      <td>ENSMUSG00000026864</td>\n",
       "      <td>heat shock protein 5 [Source:MGI Symbol;Acc:MG...</td>\n",
       "      <td>3.395249e-16</td>\n",
       "    </tr>\n",
       "    <tr>\n",
       "      <th>Creld2</th>\n",
       "      <td>0.652848</td>\n",
       "      <td>3.398393</td>\n",
       "      <td>1.444089</td>\n",
       "      <td>1.201703</td>\n",
       "      <td>0.436043</td>\n",
       "      <td>3.133245</td>\n",
       "      <td>1.299769</td>\n",
       "      <td>1.140074</td>\n",
       "      <td>0.780108</td>\n",
       "      <td>1.988555</td>\n",
       "      <td>...</td>\n",
       "      <td>0.798393</td>\n",
       "      <td>1.013567</td>\n",
       "      <td>1.003486</td>\n",
       "      <td>3.061473</td>\n",
       "      <td>0.369983</td>\n",
       "      <td>8.274636</td>\n",
       "      <td>1.288489e-16</td>\n",
       "      <td>ENSMUSG00000023272</td>\n",
       "      <td>cysteine-rich with EGF-like domains 2 [Source:...</td>\n",
       "      <td>4.548758e-13</td>\n",
       "    </tr>\n",
       "    <tr>\n",
       "      <th>Chordc1</th>\n",
       "      <td>0.369503</td>\n",
       "      <td>5.309889</td>\n",
       "      <td>2.831243</td>\n",
       "      <td>1.682630</td>\n",
       "      <td>0.350577</td>\n",
       "      <td>2.564127</td>\n",
       "      <td>1.029562</td>\n",
       "      <td>1.014673</td>\n",
       "      <td>0.403591</td>\n",
       "      <td>0.805901</td>\n",
       "      <td>...</td>\n",
       "      <td>0.873621</td>\n",
       "      <td>0.693886</td>\n",
       "      <td>0.909139</td>\n",
       "      <td>2.832547</td>\n",
       "      <td>0.356183</td>\n",
       "      <td>7.952513</td>\n",
       "      <td>1.827661e-15</td>\n",
       "      <td>ENSMUSG00000001774</td>\n",
       "      <td>cysteine and histidine-rich domain (CHORD)-con...</td>\n",
       "      <td>5.530456e-12</td>\n",
       "    </tr>\n",
       "    <tr>\n",
       "      <th>Tra2a</th>\n",
       "      <td>0.509514</td>\n",
       "      <td>6.221302</td>\n",
       "      <td>3.707050</td>\n",
       "      <td>1.925370</td>\n",
       "      <td>0.277803</td>\n",
       "      <td>2.680792</td>\n",
       "      <td>1.080554</td>\n",
       "      <td>1.039497</td>\n",
       "      <td>0.803309</td>\n",
       "      <td>2.224881</td>\n",
       "      <td>...</td>\n",
       "      <td>0.344178</td>\n",
       "      <td>0.931541</td>\n",
       "      <td>0.794196</td>\n",
       "      <td>2.611518</td>\n",
       "      <td>0.387590</td>\n",
       "      <td>6.737837</td>\n",
       "      <td>1.607619e-11</td>\n",
       "      <td>ENSMUSG00000029817</td>\n",
       "      <td>transformer 2 alpha homolog (Drosophila) [Sour...</td>\n",
       "      <td>2.643547e-08</td>\n",
       "    </tr>\n",
       "    <tr>\n",
       "      <th>Manf</th>\n",
       "      <td>0.524882</td>\n",
       "      <td>5.532577</td>\n",
       "      <td>3.032451</td>\n",
       "      <td>1.741393</td>\n",
       "      <td>0.481697</td>\n",
       "      <td>3.064735</td>\n",
       "      <td>1.264383</td>\n",
       "      <td>1.124448</td>\n",
       "      <td>0.436052</td>\n",
       "      <td>1.014986</td>\n",
       "      <td>...</td>\n",
       "      <td>1.061665</td>\n",
       "      <td>0.837053</td>\n",
       "      <td>0.923884</td>\n",
       "      <td>2.578549</td>\n",
       "      <td>0.382773</td>\n",
       "      <td>6.736503</td>\n",
       "      <td>1.622434e-11</td>\n",
       "      <td>ENSMUSG00000032575</td>\n",
       "      <td>mesencephalic astrocyte-derived neurotrophic f...</td>\n",
       "      <td>2.643547e-08</td>\n",
       "    </tr>\n",
       "  </tbody>\n",
       "</table>\n",
       "<p>5 rows × 242 columns</p>\n",
       "</div>"
      ],
      "text/plain": [
       "         MoEx_CerCx_Enrich  MoEx_CerCx_Hedges_g  MoEx_CerCx_Var_g  \\\n",
       "Hspa5             0.796333             9.991844          8.801412   \n",
       "Creld2            0.652848             3.398393          1.444089   \n",
       "Chordc1           0.369503             5.309889          2.831243   \n",
       "Tra2a             0.509514             6.221302          3.707050   \n",
       "Manf              0.524882             5.532577          3.032451   \n",
       "\n",
       "         MoEx_CerCx_SEg  430AV2_ZT6_D2_Enrich  430AV2_ZT6_D2_Hedges_g  \\\n",
       "Hspa5          2.966717              0.391073                3.356249   \n",
       "Creld2         1.201703              0.436043                3.133245   \n",
       "Chordc1        1.682630              0.350577                2.564127   \n",
       "Tra2a          1.925370              0.277803                2.680792   \n",
       "Manf           1.741393              0.481697                3.064735   \n",
       "\n",
       "         430AV2_ZT6_D2_Var_g  430AV2_ZT6_D2_SEg  430AV2_Astro_Enrich  \\\n",
       "Hspa5               1.420367           1.191792             0.604684   \n",
       "Creld2              1.299769           1.140074             0.780108   \n",
       "Chordc1             1.029562           1.014673             0.403591   \n",
       "Tra2a               1.080554           1.039497             0.803309   \n",
       "Manf                1.264383           1.124448             0.436052   \n",
       "\n",
       "         430AV2_Astro_Hedges_g      ...       430AV2_ZT6_AK_esW*_21  \\\n",
       "Hspa5                 1.468095      ...                    1.215575   \n",
       "Creld2                1.988555      ...                    0.798393   \n",
       "Chordc1               0.805901      ...                    0.873621   \n",
       "Tra2a                 2.224881      ...                    0.344178   \n",
       "Manf                  1.014986      ...                    1.061665   \n",
       "\n",
       "         430AV2_ZT6_B6_esW*_22  430AV2_ZT6_D2_esW*_23    REM_M*  REM_SEM*  \\\n",
       "Hspa5                 1.072101               1.148088  3.356715  0.368344   \n",
       "Creld2                1.013567               1.003486  3.061473  0.369983   \n",
       "Chordc1               0.693886               0.909139  2.832547  0.356183   \n",
       "Tra2a                 0.931541               0.794196  2.611518  0.387590   \n",
       "Manf                  0.837053               0.923884  2.578549  0.382773   \n",
       "\n",
       "            REM_Z      REM_pVal     Ensembl Gene ID  \\\n",
       "Hspa5    9.112986  8.014535e-20  ENSMUSG00000026864   \n",
       "Creld2   8.274636  1.288489e-16  ENSMUSG00000023272   \n",
       "Chordc1  7.952513  1.827661e-15  ENSMUSG00000001774   \n",
       "Tra2a    6.737837  1.607619e-11  ENSMUSG00000029817   \n",
       "Manf     6.736503  1.622434e-11  ENSMUSG00000032575   \n",
       "\n",
       "                                               Description       q-value  \n",
       "Hspa5    heat shock protein 5 [Source:MGI Symbol;Acc:MG...  3.395249e-16  \n",
       "Creld2   cysteine-rich with EGF-like domains 2 [Source:...  4.548758e-13  \n",
       "Chordc1  cysteine and histidine-rich domain (CHORD)-con...  5.530456e-12  \n",
       "Tra2a    transformer 2 alpha homolog (Drosophila) [Sour...  2.643547e-08  \n",
       "Manf     mesencephalic astrocyte-derived neurotrophic f...  2.643547e-08  \n",
       "\n",
       "[5 rows x 242 columns]"
      ]
     },
     "execution_count": 9,
     "metadata": {},
     "output_type": "execute_result"
    }
   ],
   "source": [
    "df=pd.read_csv('input_files/meta_out_Symbol(REM)_pythonQs.csv',index_col=[0])\n",
    "df.head()"
   ]
  },
  {
   "cell_type": "code",
   "execution_count": 10,
   "metadata": {},
   "outputs": [
    {
     "data": {
      "text/plain": [
       "(498, 242)"
      ]
     },
     "execution_count": 10,
     "metadata": {},
     "output_type": "execute_result"
    }
   ],
   "source": [
    "df.shape"
   ]
  },
  {
   "cell_type": "markdown",
   "metadata": {},
   "source": [
    "## Tidy up column names"
   ]
  },
  {
   "cell_type": "code",
   "execution_count": 11,
   "metadata": {},
   "outputs": [
    {
     "data": {
      "text/plain": [
       "Index(['MoEx_CerCx_Enrich', 'MoEx_CerCx_Hedges_g', 'MoEx_CerCx_Var_g',\n",
       "       'MoEx_CerCx_SEg', '430AV2_ZT6_D2_Enrich', '430AV2_ZT6_D2_Hedges_g',\n",
       "       '430AV2_ZT6_D2_Var_g', '430AV2_ZT6_D2_SEg', '430AV2_Astro_Enrich',\n",
       "       '430AV2_Astro_Hedges_g',\n",
       "       ...\n",
       "       '430AV2_ZT6_AK_esW*_21', '430AV2_ZT6_B6_esW*_22',\n",
       "       '430AV2_ZT6_D2_esW*_23', 'REM_M*', 'REM_SEM*', 'REM_Z', 'REM_pVal',\n",
       "       'Ensembl Gene ID', 'Description', 'q-value'],\n",
       "      dtype='object', length=242)"
      ]
     },
     "execution_count": 11,
     "metadata": {},
     "output_type": "execute_result"
    }
   ],
   "source": [
    "df.columns =df.columns.str.strip() #drop gaps in column titles \n",
    "df.columns"
   ]
  },
  {
   "cell_type": "code",
   "execution_count": 12,
   "metadata": {},
   "outputs": [
    {
     "data": {
      "text/plain": [
       "(498, 242)"
      ]
     },
     "execution_count": 12,
     "metadata": {},
     "output_type": "execute_result"
    }
   ],
   "source": [
    "df.shape"
   ]
  },
  {
   "cell_type": "markdown",
   "metadata": {},
   "source": [
    "## Allocate alphas (opacities of points)"
   ]
  },
  {
   "cell_type": "code",
   "execution_count": 13,
   "metadata": {},
   "outputs": [
    {
     "name": "stderr",
     "output_type": "stream",
     "text": [
      "/Users/Ella1/anaconda3/envs/NARv3/lib/python3.6/site-packages/ipykernel_launcher.py:3: SettingWithCopyWarning: \n",
      "A value is trying to be set on a copy of a slice from a DataFrame\n",
      "\n",
      "See the caveats in the documentation: http://pandas.pydata.org/pandas-docs/stable/indexing.html#indexing-view-versus-copy\n",
      "  This is separate from the ipykernel package so we can avoid doing imports until\n",
      "/Users/Ella1/anaconda3/envs/NARv3/lib/python3.6/site-packages/ipykernel_launcher.py:4: SettingWithCopyWarning: \n",
      "A value is trying to be set on a copy of a slice from a DataFrame\n",
      "\n",
      "See the caveats in the documentation: http://pandas.pydata.org/pandas-docs/stable/indexing.html#indexing-view-versus-copy\n",
      "  after removing the cwd from sys.path.\n"
     ]
    }
   ],
   "source": [
    "# define alphas in dataframe\n",
    "df[\"color\"] = \"grey\"\n",
    "df[\"color\"][(df['REM_M*'] < 0) & (df['q-value'] < 0.01)] = \"navy\"\n",
    "df[\"color\"][(df['REM_M*'] > 0) & (df['q-value'] < 0.01)]= \"gold\"\n",
    "\n",
    "df[\"alpha\"] = np.where(df['q-value'] < 0.01, 0.4, 0.05)\n",
    "df['log_q']= np.log10(df['q-value'])"
   ]
  },
  {
   "cell_type": "markdown",
   "metadata": {},
   "source": [
    "## Shape of points"
   ]
  },
  {
   "cell_type": "code",
   "execution_count": 14,
   "metadata": {},
   "outputs": [],
   "source": [
    "df2 =df.round({'MoEx_CerCx_Enrich':2, u'MoEx_CerCx_Hedges_g':2,\n",
    "       u'MoEx_CerCx_Var_g':2, u'MoEx_CerCx_SEg':2, u'430AV2_CerCx_3h_Enrich':2, u'430AV2_CerCx_3h_Hedges_g':2,\n",
    "       u'430AV2_CerCx_3h_Var_g':2, u'430AV2_CerCx_3h_SEg':2, u'430AV2_CerCx_6h_Enrich':2, u'430AV2_CerCx_6h_Hedges_g':2,\n",
    "       u'430AV2_CerCx_6h_Var_g':2, u'430AV2_CerCx_6h_SEg':2, u'430AV2_CerCx_9h_Enrich':2, u'430AV2_CerCx_9h_Hedges_g':2,\n",
    "       u'430AV2_CerCx_9h_Var_g':2, u'430AV2_CerCx_9h_SEg':2, u'430AV2_CerCx_12h_Enrich':2, u'430AV2_CerCx_12h_Hedges_g':2,\n",
    "       u'430AV2_CerCx_12h_Var_g':2, u'430AV2_CerCx_12h_SEg':2, u'430AV2_ForeOlig_Enrich':2, u'430AV2_ForeOlig_Hedges_g':2, \n",
    "       u'430AV2_ForeOlig_Var_g':2, u'430AV2_ForeOlig_SEg':2, u'430AV2_ForeNonOlig_Enrich':2, u'430AV2_ForeNonOlig_Hedges_g':2,\n",
    "       u'430AV2_ForeNonOlig_Var_g':2, u'430AV2_ForeNonOlig_SEg':2, u'430AV2_Hipp_Enrich':2, u'430AV2_Hipp_Hedges_g':2,\n",
    "       u'430AV2_Hipp_Var_g':2, u'430AV2_Hipp_SEg':2, u'430AV2_HypoT_3h_Enrich':2, u'430AV2_HypoT_3h_Hedges_g':2, \n",
    "       u'430AV2_HypoT_3h_Var_g':2, u'430AV2_HypoT_3h_SEg':2, u'430AV2_HypoT_6h_Enrich':2, u'430AV2_HypoT_6h_Hedges_g':2,\n",
    "       u'430AV2_HypoT_6h_Var_g':2, u'430AV2_HypoT_6h_SEg':2, u'430AV2_HypoT_9h_Enrich':2, u'430AV2_HypoT_9h_Hedges_g':2,\n",
    "       u'430AV2_HypoT_9h_Var_g':2, u'430AV2_HypoT_9h_SEg':2, u'430AV2_HypoT_12h_Enrich':2, u'430AV2_HypoT_12h_Hedges_g':2,\n",
    "       u'430AV2_HypoT_12h_Var_g':2, u'430AV2_HypoT_12h_SEg':2, u'430AV2_Astro_Enrich':2, u'430AV2_Astro_Hedges_g':2, \n",
    "       u'430AV2_Astro_Var_g':2, u'430AV2_Astro_SEg':2, u'430AV2_NonAstro_Enrich':2, u'430AV2_NonAstro_Hedges_g':2,\n",
    "       u'430AV2_NonAstro_Var_g':2, u'430AV2_NonAstro_SEg':2, u'430AV2_WB_AK_Enrich':2, u'430AV2_WB_AK_Hedges_g':2,\n",
    "       u'430AV2_WB_AK_Var_g':2, u'430AV2_WB_AK_SEg':2, u'430AV2_WB_B6_Enrich':2, u'430AV2_WB_B6_Hedges_g':2, \n",
    "       u'430AV2_WB_B6_Var_g':2, u'430AV2_WB_B6_SEg:':2, u'430AV2_WB_D2_Enrich':2, u'430AV2_WB_D2_Hedges_g':2,\n",
    "       u'430AV2_WB_D2_Var_g':2, u'430AV2_WB_D2_SEg':2, u'430AV2_ZT12_AK_Enrich':2, u'430AV2_ZT12_AK_Hedges_g':2,\n",
    "       u'430AV2_ZT12_AK_Var_g':2, u'430AV2_ZT12_AK_SEg':2, u'430AV2_ZT12_B6_Enrich':2, u'430AV2_ZT12_B6_Hedges_g':2,\n",
    "       u'430AV2_ZT12_B6_Var_g':2, u'430AV2_ZT12_B6_SEg':2, u'430AV2_ZT12_D2_Enrich':2, u'430AV2_ZT12_D2_Hedges_g':2,\n",
    "       u'430AV2_ZT12_D2_Var_g':2, u'430AV2_ZT12_D2_SEg':2, u'430AV2_ZT6_AK_Enrich':2, u'430AV2_ZT6_AK_Hedges_g':2,\n",
    "       u'430AV2_ZT6_AK_Var_g':2, u'430AV2_ ZT6_AK_SEg':2, u'430AV2_ZT6_B6_Enrich':2, u'430AV2_ZT6_B6_Hedges_g':2,\n",
    "       u'430AV2_ZT6_B6_Var_g':2, u'430AV2_ ZT6_B6_SEg':2, u'430AV2_ZT6_D2_Enrich':2, u'430AV2_ZT6_D2_Hedges_g':2,\n",
    "       u'430AV2_ZT6_D2_Var_g':2, u'430AV2_ ZT6_D2_SEg':2, u'df':0,u'I^2':2, u'Tau^2':2, u'REM_M*':2, u'log_q':2})\n"
   ]
  },
  {
   "cell_type": "markdown",
   "metadata": {},
   "source": [
    "## Store details in file"
   ]
  },
  {
   "cell_type": "code",
   "execution_count": 15,
   "metadata": {},
   "outputs": [],
   "source": [
    "df2.to_csv('input_files/Bokeh_volcano_dataframe.csv')"
   ]
  },
  {
   "cell_type": "code",
   "execution_count": 16,
   "metadata": {},
   "outputs": [],
   "source": [
    "df3 = df[df['q-value'] < 0.01]"
   ]
  },
  {
   "cell_type": "code",
   "execution_count": 17,
   "metadata": {},
   "outputs": [
    {
     "data": {
      "text/plain": [
       "(498, 245)"
      ]
     },
     "execution_count": 17,
     "metadata": {},
     "output_type": "execute_result"
    }
   ],
   "source": [
    "df3.shape"
   ]
  }
 ],
 "metadata": {
  "kernelspec": {
   "display_name": "Python 3",
   "language": "python",
   "name": "python3"
  },
  "language_info": {
   "codemirror_mode": {
    "name": "ipython",
    "version": 3
   },
   "file_extension": ".py",
   "mimetype": "text/x-python",
   "name": "python",
   "nbconvert_exporter": "python",
   "pygments_lexer": "ipython3",
   "version": "3.6.7"
  }
 },
 "nbformat": 4,
 "nbformat_minor": 1
}
