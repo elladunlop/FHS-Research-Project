{
 "cells": [
  {
   "cell_type": "code",
   "execution_count": 1,
   "metadata": {},
   "outputs": [],
   "source": [
    "import pandas as pd # Dataframes and file IO\n",
    "import numpy as np # numerical calculations"
   ]
  },
  {
   "cell_type": "code",
   "execution_count": 2,
   "metadata": {},
   "outputs": [],
   "source": [
    "# Import from Bokeh python library for vizualisation\n",
    "from bokeh.models import HoverTool, TapTool, ColumnDataSource \n",
    "from bokeh.models.widgets import DataTable, DateFormatter, TableColumn\n",
    "from bokeh.plotting import figure\n",
    "from bokeh.io import output_file,show #hplot\n",
    "from bokeh.layouts import layout, column"
   ]
  },
  {
   "cell_type": "code",
   "execution_count": 3,
   "metadata": {},
   "outputs": [
    {
     "data": {
      "text/plain": [
       "(498, 246)"
      ]
     },
     "execution_count": 3,
     "metadata": {},
     "output_type": "execute_result"
    }
   ],
   "source": [
    "df=pd.read_csv('input_files/Bokeh_volcano_dataframe.csv')  #import data without MGI symbol as key\n",
    "df3 = df[df['q-value'] < 0.1]\n",
    "df3.shape  # check table"
   ]
  },
  {
   "cell_type": "code",
   "execution_count": 4,
   "metadata": {},
   "outputs": [
    {
     "data": {
      "text/plain": [
       "Index(['Unnamed: 0', 'MoEx_CerCx_Enrich', 'MoEx_CerCx_Hedges_g',\n",
       "       'MoEx_CerCx_Var_g', 'MoEx_CerCx_SEg', '430AV2_ZT6_D2_Enrich',\n",
       "       '430AV2_ZT6_D2_Hedges_g', '430AV2_ZT6_D2_Var_g', '430AV2_ZT6_D2_SEg',\n",
       "       '430AV2_Astro_Enrich',\n",
       "       ...\n",
       "       'REM_M*', 'REM_SEM*', 'REM_Z', 'REM_pVal', 'Ensembl Gene ID',\n",
       "       'Description', 'q-value', 'color', 'alpha', 'log_q'],\n",
       "      dtype='object', length=246)"
      ]
     },
     "execution_count": 4,
     "metadata": {},
     "output_type": "execute_result"
    }
   ],
   "source": [
    "df3.columns"
   ]
  },
  {
   "cell_type": "code",
   "execution_count": 5,
   "metadata": {},
   "outputs": [],
   "source": [
    "def plot_and_table(df):\n",
    "\n",
    "\n",
    "    output_file(filename=\"plot_plus_table.html\", title=\"Figure2_with_table\")\n",
    "\n",
    "\n",
    "    p3 = figure(tools=\"wheel_zoom,crosshair,pan,box_zoom,reset,previewsave,box_select, hover, tap\",\n",
    "                x_range=(-5, 5), y_range=(-20, 0), output_backend=\"webgl\")\n",
    "\n",
    "\n",
    "    source = ColumnDataSource(data = dict(x=df3['REM_M*'].round(2), \n",
    "                                          y = df3['log_q'].round(2),\n",
    "                                          c = df3['color'],\n",
    "                                          a = df3['alpha'],\n",
    "                                          studies = df3['degf']+1,\n",
    "                                          radius = (df3['degf']+1)/40,\n",
    "                                          names = df3['Unnamed: 0'],\n",
    "                                          I2 = df3['I^2'].round(2)))\n",
    "\n",
    "\n",
    "    p3.scatter('x' , 'y' , source = source, radius=0.1, #'radius',\n",
    "             fill_alpha = 'a', fill_color = 'c',line_alpha = 0.5, line_color = 'black', line_width=0.2)\n",
    "\n",
    "\n",
    "    p3.xaxis.axis_label = \"Combined Effect Size (M*)\"\n",
    "    p3.yaxis.axis_label = \"log10(q value)\"\n",
    "\n",
    "    hover = p3.select(dict(type=HoverTool))\n",
    "    hover.tooltips = [(\"ID\", \"@names\"),\n",
    "                      (\"Number of Studies\", \"@studies\"),\n",
    "                      (\"q value(log10)\",\"@y\"),\n",
    "                      (\"Effect size (M)*\",\"@x\"),\n",
    "                      (\"I-Squared\",\"@I2\"),]\n",
    "\n",
    "\n",
    "\n",
    "    p3.ygrid.band_fill_color=None\n",
    "    p3.ygrid.grid_line_color=None\n",
    "    p3.xgrid.band_fill_color=None\n",
    "    p3.xgrid.grid_line_color=None\n",
    "    p3.line(x= 0, y= [-35,0], line_width=4, line_dash=[8,8], line_color=\"grey\")\n",
    "    #p3.line(x= -3, y= [-35,0], line_width=2, line_dash=[8,8], line_color=\"navy\")\n",
    "    #p3.line(x= 3, y= [-35,0], line_width=2, line_dash=[8,8], line_color=\"gold\")\n",
    "    p3.line(x= [-20,20], y= -2, line_width=1, line_dash=[8,8], line_color=\"grey\")\n",
    "\n",
    "\n",
    "    taptool = p3.select(type=TapTool)\n",
    "\n",
    "\n",
    "    columns = [TableColumn(field=\"names\", title=\"MGI symbol\"),\n",
    "               TableColumn(field=\"studies\", title=\"Studies\"),\n",
    "               TableColumn(field=\"x\", title=\"Effect Size\"),\n",
    "               TableColumn(field=\"y\", title=\"log10(q-value)\"),\n",
    "               TableColumn(field=\"I2\", title=\"I-Squared\")]\n",
    "\n",
    "\n",
    "    data_table = DataTable(source=source, columns=columns, height=800, width=600)\n",
    "\n",
    "\n",
    "    show(column(p3, data_table))"
   ]
  },
  {
   "cell_type": "code",
   "execution_count": 6,
   "metadata": {},
   "outputs": [],
   "source": [
    "plot_and_table(df3)"
   ]
  }
 ],
 "metadata": {
  "kernelspec": {
   "display_name": "Python 3",
   "language": "python",
   "name": "python3"
  },
  "language_info": {
   "codemirror_mode": {
    "name": "ipython",
    "version": 3
   },
   "file_extension": ".py",
   "mimetype": "text/x-python",
   "name": "python",
   "nbconvert_exporter": "python",
   "pygments_lexer": "ipython3",
   "version": "3.6.7"
  }
 },
 "nbformat": 4,
 "nbformat_minor": 1
}
